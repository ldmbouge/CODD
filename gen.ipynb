{
 "cells": [
  {
   "cell_type": "markdown",
   "metadata": {},
   "source": [
    "# Knapsack:"
   ]
  },
  {
   "cell_type": "code",
   "execution_count": 48,
   "metadata": {},
   "outputs": [],
   "source": [
    "import random\n",
    "\n",
    "I = 5\n",
    "fname = './data/knapsack/easy4'\n",
    "\n",
    "w = [random.randint(1,100) for _ in range(I)]\n",
    "c = [random.randint(1,100) for _ in range(I)]\n",
    "\n",
    "with open(fname, 'w') as out_f:\n",
    "    out_f.write(f'{I} {int(sum(w)*0.75)}\\n{\"\\n\".join(f\"{a} {b}\" for a,b in zip(c,w))}')"
   ]
  },
  {
   "cell_type": "code",
   "execution_count": null,
   "metadata": {},
   "outputs": [
    {
     "name": "stdout",
     "output_type": "stream",
     "text": [
      "0:0 1:0 2:0 3:0 4:1 5:0 6:1 7:1 8:1 9:1 10:1 11:1 12:1 13:1 14:1 15:1 16:1 17:1 18:1 19:1 20:1 21:1 22:1 23:1 24:1 25:1 26:1 27:1\n"
     ]
    }
   ],
   "source": [
    "#                 0 0 0 0 1 0 1 1 1 1 1 1 1 1 1 1 1 1 1 1 1 1 1 1\n",
    "longest_prefix = '0 0 0 0 1 0 1 1 1 1 1 1 1 1 1 1 1 1 1 1 1 1 1 1 1 1 1 1'.split(' ')\n",
    "print( ' '.join( f'{i}:{x}' for i,x in enumerate(longest_prefix) ) )"
   ]
  },
  {
   "cell_type": "code",
   "execution_count": 83,
   "metadata": {},
   "outputs": [],
   "source": [
    "fname = './data/knapsack/breaksRF'\n",
    "with open(fname, 'r') as in_f:\n",
    "    lines = [[int(x) for x in line.strip().split(' ')] for line in in_f.readlines()]\n",
    "    N,I = lines[0]\n",
    "\n",
    "    pairs = lines[1:]\n",
    "    spairs = sorted(pairs, key=lambda pair: -pair[0]/pair[1])\n",
    "    c = [pair[0] for pair in spairs]\n",
    "    w = [pair[1] for pair in spairs]\n",
    "\n",
    "with open(fname+'2', 'w') as out_f:\n",
    "    out_f.write(f'{N} {I}\\n{\"\\n\".join(f\"{a} {b}\" for a,b in zip(c,w))}')"
   ]
  },
  {
   "cell_type": "code",
   "execution_count": 45,
   "metadata": {},
   "outputs": [
    {
     "name": "stdout",
     "output_type": "stream",
     "text": [
      "[1, 1, 0, 1, 1, 1, 0, 1, 1, 1, 1, 1, 1, 1, 1, 1, 1, 1, 0, 1, 0, 1, 0, 1, 1, 1, 1, 1]\n",
      "[1, 1, 1, 1, 0, 1, 1, 1, 0, 0, 1, 1, 1, 1, 1, 1, 1, 1, 0]\n",
      "[1, 1, 1, 1, 0, 1, 1, 1, 0, 0, 1, 1, 1, 1, 1, 1, 1, 1, 0, 1, 0, 1, 0, 1, 1, 1, 1, 1]\n",
      "[1, 1, 0, 1, 1, 1, 0, 1, 1, 1, 1, 1, 1, 1, 1, 1, 1, 1, 0]\n",
      "1323\n",
      "819\n",
      "1198\n",
      "944\n"
     ]
    }
   ],
   "source": [
    "#discarded: 24,T,<19,439>,B=819,BB=0,LBLS:[0:1 1:1 2:1 3:1 4:0 5:1 6:1 7:1 8:0 9:0 10:1 11:1 12:1 13:1 14:1 15:1 16:1 17:1 18:0 ]\n",
    "#discarded: 10,T,<19,439>,B=684,BB=0,LBLS:[0:1 1:1 2:0 3:1 4:1 5:1 6:1 7:1 8:1 9:1 10:1 11:1 12:1 13:0 14:0 15:0 16:0 17:1 18:0 ]\n",
    "#                        [1 1 0 1 1 1 0 1 1 1 1 1 1 1 1 1 1 1\n",
    "best  = [int(x) for x in '1 1 0 1 1 1 0 1 1 1 1 1 1 1 1 1 1 1 0 1 0 1 0 1 1 1 1 1'.split(' ')]\n",
    "first = [int(x.split(':')[-1]) for x in '0:1 1:1 2:1 3:1 4:0 5:1 6:1 7:1 8:0 9:0 10:1 11:1 12:1 13:1 14:1 15:1 16:1 17:1 18:0'.split(' ')]\n",
    "last  = [int(x.split(':')[-1]) for x in '0:1 1:1 2:0 3:1 4:1 5:1 6:0 7:1 8:1 9:1 10:1 11:1 12:1 13:1 14:1 15:1 16:1 17:1 18:0'.split(' ')]\n",
    "\n",
    "first_padded = first + [1, 0, 1, 0, 1, 1, 1, 1, 1]\n",
    "\n",
    "fname = './data/knapsack/breaksRF'\n",
    "with open(fname, 'r') as in_f:\n",
    "    lines = [[int(x) for x in line.strip().split(' ')] for line in in_f.readlines()]\n",
    "    N,I = lines[0]\n",
    "    c = [line[0] for line in lines[1:]]\n",
    "    w = [line[1] for line in lines[1:]]\n",
    "    \n",
    "def value(X, C):\n",
    "    return sum( x*c for x,c in zip(X,C) )\n",
    "\n",
    "print(best)\n",
    "print(first)\n",
    "print(first_padded)\n",
    "print(last)\n",
    "\n",
    "print(value(best, c))\n",
    "print(value(first, c))\n",
    "print(value(first_padded, c))\n",
    "print(value(last, c))"
   ]
  },
  {
   "cell_type": "code",
   "execution_count": 42,
   "metadata": {},
   "outputs": [
    {
     "ename": "AttributeError",
     "evalue": "'list' object has no attribute 'split'",
     "output_type": "error",
     "traceback": [
      "\u001b[0;31m---------------------------------------------------------------------------\u001b[0m",
      "\u001b[0;31mAttributeError\u001b[0m                            Traceback (most recent call last)",
      "Cell \u001b[0;32mIn[42], line 3\u001b[0m\n\u001b[1;32m      1\u001b[0m tag \u001b[38;5;241m=\u001b[39m \u001b[38;5;124m\"\u001b[39m\u001b[38;5;124mLBLS:[\u001b[39m\u001b[38;5;124m\"\u001b[39m\n\u001b[1;32m      2\u001b[0m \u001b[38;5;28;01mwith\u001b[39;00m \u001b[38;5;28mopen\u001b[39m(\u001b[38;5;124m\"\u001b[39m\u001b[38;5;124m./build/tmp1\u001b[39m\u001b[38;5;124m\"\u001b[39m) \u001b[38;5;28;01mas\u001b[39;00m tmp1, \u001b[38;5;28mopen\u001b[39m(\u001b[38;5;124m\"\u001b[39m\u001b[38;5;124m./build/tmp2\u001b[39m\u001b[38;5;124m\"\u001b[39m) \u001b[38;5;28;01mas\u001b[39;00m tmp2:\n\u001b[0;32m----> 3\u001b[0m     lbls1 \u001b[38;5;241m=\u001b[39m \u001b[38;5;28;43mlist\u001b[39;49m\u001b[43m(\u001b[49m\u001b[43mx\u001b[49m\u001b[38;5;241;43m.\u001b[39;49m\u001b[43msplit\u001b[49m\u001b[43m(\u001b[49m\u001b[38;5;124;43m'\u001b[39;49m\u001b[38;5;124;43m:\u001b[39;49m\u001b[38;5;124;43m'\u001b[39;49m\u001b[43m)\u001b[49m\u001b[43m[\u001b[49m\u001b[38;5;241;43m-\u001b[39;49m\u001b[38;5;241;43m1\u001b[39;49m\u001b[43m]\u001b[49m\u001b[43m \u001b[49m\u001b[38;5;28;43;01mfor\u001b[39;49;00m\u001b[43m \u001b[49m\u001b[43mx\u001b[49m\u001b[43m \u001b[49m\u001b[38;5;129;43;01min\u001b[39;49;00m\u001b[43m \u001b[49m\u001b[43m(\u001b[49m\u001b[43ms\u001b[49m\u001b[43m[\u001b[49m\u001b[43ms\u001b[49m\u001b[38;5;241;43m.\u001b[39;49m\u001b[43mindex\u001b[49m\u001b[43m(\u001b[49m\u001b[43mtag\u001b[49m\u001b[43m)\u001b[49m\u001b[38;5;241;43m+\u001b[39;49m\u001b[38;5;28;43mlen\u001b[39;49m\u001b[43m(\u001b[49m\u001b[43mtag\u001b[49m\u001b[43m)\u001b[49m\u001b[43m:\u001b[49m\u001b[38;5;241;43m-\u001b[39;49m\u001b[38;5;241;43m2\u001b[39;49m\u001b[43m]\u001b[49m\u001b[38;5;241;43m.\u001b[39;49m\u001b[43msplit\u001b[49m\u001b[43m(\u001b[49m\u001b[38;5;124;43m'\u001b[39;49m\u001b[38;5;124;43m \u001b[39;49m\u001b[38;5;124;43m'\u001b[39;49m\u001b[43m)\u001b[49m\u001b[43m \u001b[49m\u001b[38;5;28;43;01mfor\u001b[39;49;00m\u001b[43m \u001b[49m\u001b[43ms\u001b[49m\u001b[43m \u001b[49m\u001b[38;5;129;43;01min\u001b[39;49;00m\u001b[43m \u001b[49m\u001b[38;5;28;43mfilter\u001b[39;49m\u001b[43m(\u001b[49m\u001b[38;5;28;43;01mlambda\u001b[39;49;00m\u001b[43m \u001b[49m\u001b[43ms\u001b[49m\u001b[43m:\u001b[49m\u001b[43m \u001b[49m\u001b[43mtag\u001b[49m\u001b[43m \u001b[49m\u001b[38;5;129;43;01min\u001b[39;49;00m\u001b[43m \u001b[49m\u001b[43ms\u001b[49m\u001b[43m,\u001b[49m\u001b[43m \u001b[49m\u001b[43mtmp1\u001b[49m\u001b[38;5;241;43m.\u001b[39;49m\u001b[43mreadlines\u001b[49m\u001b[43m(\u001b[49m\u001b[43m)\u001b[49m\u001b[43m)\u001b[49m\u001b[43m)\u001b[49m\u001b[43m)\u001b[49m\n\u001b[1;32m      4\u001b[0m     lbls2 \u001b[38;5;241m=\u001b[39m \u001b[38;5;28mlist\u001b[39m(x\u001b[38;5;241m.\u001b[39msplit(\u001b[38;5;124m'\u001b[39m\u001b[38;5;124m:\u001b[39m\u001b[38;5;124m'\u001b[39m)[\u001b[38;5;241m-\u001b[39m\u001b[38;5;241m1\u001b[39m] \u001b[38;5;28;01mfor\u001b[39;00m x \u001b[38;5;129;01min\u001b[39;00m (s[s\u001b[38;5;241m.\u001b[39mindex(tag)\u001b[38;5;241m+\u001b[39m\u001b[38;5;28mlen\u001b[39m(tag):\u001b[38;5;241m-\u001b[39m\u001b[38;5;241m2\u001b[39m]\u001b[38;5;241m.\u001b[39msplit(\u001b[38;5;124m'\u001b[39m\u001b[38;5;124m \u001b[39m\u001b[38;5;124m'\u001b[39m) \u001b[38;5;28;01mfor\u001b[39;00m s \u001b[38;5;129;01min\u001b[39;00m \u001b[38;5;28mfilter\u001b[39m(\u001b[38;5;28;01mlambda\u001b[39;00m s: tag \u001b[38;5;129;01min\u001b[39;00m s, tmp2\u001b[38;5;241m.\u001b[39mreadlines())))\n\u001b[1;32m      6\u001b[0m \u001b[38;5;28mprint\u001b[39m(\u001b[38;5;28mlen\u001b[39m(lbls1))\n",
      "Cell \u001b[0;32mIn[42], line 3\u001b[0m, in \u001b[0;36m<genexpr>\u001b[0;34m(.0)\u001b[0m\n\u001b[1;32m      1\u001b[0m tag \u001b[38;5;241m=\u001b[39m \u001b[38;5;124m\"\u001b[39m\u001b[38;5;124mLBLS:[\u001b[39m\u001b[38;5;124m\"\u001b[39m\n\u001b[1;32m      2\u001b[0m \u001b[38;5;28;01mwith\u001b[39;00m \u001b[38;5;28mopen\u001b[39m(\u001b[38;5;124m\"\u001b[39m\u001b[38;5;124m./build/tmp1\u001b[39m\u001b[38;5;124m\"\u001b[39m) \u001b[38;5;28;01mas\u001b[39;00m tmp1, \u001b[38;5;28mopen\u001b[39m(\u001b[38;5;124m\"\u001b[39m\u001b[38;5;124m./build/tmp2\u001b[39m\u001b[38;5;124m\"\u001b[39m) \u001b[38;5;28;01mas\u001b[39;00m tmp2:\n\u001b[0;32m----> 3\u001b[0m     lbls1 \u001b[38;5;241m=\u001b[39m \u001b[38;5;28mlist\u001b[39m(\u001b[43mx\u001b[49m\u001b[38;5;241;43m.\u001b[39;49m\u001b[43msplit\u001b[49m(\u001b[38;5;124m'\u001b[39m\u001b[38;5;124m:\u001b[39m\u001b[38;5;124m'\u001b[39m)[\u001b[38;5;241m-\u001b[39m\u001b[38;5;241m1\u001b[39m] \u001b[38;5;28;01mfor\u001b[39;00m x \u001b[38;5;129;01min\u001b[39;00m (s[s\u001b[38;5;241m.\u001b[39mindex(tag)\u001b[38;5;241m+\u001b[39m\u001b[38;5;28mlen\u001b[39m(tag):\u001b[38;5;241m-\u001b[39m\u001b[38;5;241m2\u001b[39m]\u001b[38;5;241m.\u001b[39msplit(\u001b[38;5;124m'\u001b[39m\u001b[38;5;124m \u001b[39m\u001b[38;5;124m'\u001b[39m) \u001b[38;5;28;01mfor\u001b[39;00m s \u001b[38;5;129;01min\u001b[39;00m \u001b[38;5;28mfilter\u001b[39m(\u001b[38;5;28;01mlambda\u001b[39;00m s: tag \u001b[38;5;129;01min\u001b[39;00m s, tmp1\u001b[38;5;241m.\u001b[39mreadlines())))\n\u001b[1;32m      4\u001b[0m     lbls2 \u001b[38;5;241m=\u001b[39m \u001b[38;5;28mlist\u001b[39m(x\u001b[38;5;241m.\u001b[39msplit(\u001b[38;5;124m'\u001b[39m\u001b[38;5;124m:\u001b[39m\u001b[38;5;124m'\u001b[39m)[\u001b[38;5;241m-\u001b[39m\u001b[38;5;241m1\u001b[39m] \u001b[38;5;28;01mfor\u001b[39;00m x \u001b[38;5;129;01min\u001b[39;00m (s[s\u001b[38;5;241m.\u001b[39mindex(tag)\u001b[38;5;241m+\u001b[39m\u001b[38;5;28mlen\u001b[39m(tag):\u001b[38;5;241m-\u001b[39m\u001b[38;5;241m2\u001b[39m]\u001b[38;5;241m.\u001b[39msplit(\u001b[38;5;124m'\u001b[39m\u001b[38;5;124m \u001b[39m\u001b[38;5;124m'\u001b[39m) \u001b[38;5;28;01mfor\u001b[39;00m s \u001b[38;5;129;01min\u001b[39;00m \u001b[38;5;28mfilter\u001b[39m(\u001b[38;5;28;01mlambda\u001b[39;00m s: tag \u001b[38;5;129;01min\u001b[39;00m s, tmp2\u001b[38;5;241m.\u001b[39mreadlines())))\n\u001b[1;32m      6\u001b[0m \u001b[38;5;28mprint\u001b[39m(\u001b[38;5;28mlen\u001b[39m(lbls1))\n",
      "\u001b[0;31mAttributeError\u001b[0m: 'list' object has no attribute 'split'"
     ]
    }
   ],
   "source": [
    "tag = \"LBLS:[\"\n",
    "with open(\"./build/tmp1\") as tmp1, open(\"./build/tmp2\") as tmp2:\n",
    "    lbls1 = list(x.split(':')[-1] for x in (s[s.index(tag)+len(tag):-2].split(' ') for s in filter(lambda s: tag in s, tmp1.readlines())))\n",
    "    lbls2 = list(x.split(':')[-1] for x in (s[s.index(tag)+len(tag):-2].split(' ') for s in filter(lambda s: tag in s, tmp2.readlines())))\n",
    "\n",
    "print(len(lbls1))\n",
    "print(len(lbls2))\n",
    "\n",
    "print(list(lbls1)[1])"
   ]
  },
  {
   "cell_type": "code",
   "execution_count": null,
   "metadata": {},
   "outputs": [],
   "source": [
    "s = \"discarded: 21,T,<25,1052>,B=42,BB=-2.14748e+09,LBLS:[0:0 1:0 2:0 3:0 4:0 5:0 6:0 7:0 8:0 9:0 10:0 11:0 12:0 13:0 14:0 15:0 16:0 17:0 18:0 19:0 20:0 21:0 22:1 23:1 24:0 ]\"\n"
   ]
  },
  {
   "cell_type": "code",
   "execution_count": 77,
   "metadata": {},
   "outputs": [
    {
     "data": {
      "text/plain": [
       "'1 0 1 0 0 0 1 0 1 1 1 1 1 1 1 1 1 1 1 1 1 1 1 1 1 1 '"
      ]
     },
     "execution_count": 77,
     "metadata": {},
     "output_type": "execute_result"
    }
   ],
   "source": [
    "xx = ''\n",
    "xx = '0:0 1:0 2:0 3:0 4:0 5:0 6:0 7:0 8:0 9:0 10:0 11:0 12:0 13:0 14:0 15:0 16:0 17:0 18:0 19:0 20:0 21:0 22:1 23:1 24:0'\n",
    "xx = '0:1 1:0 2:1 3:0 4:0 5:0 6:1 7:0 8:1 9:1 10:1 11:1 12:1 13:1 14:1 15:1 16:1 17:1 18:1 19:1 20:1 21:1 22:1 23:1 24:1 25:1 '\n",
    "xxx = [x.split(':')[-1] for x in xx.split(' ')]\n",
    "' '.join(xxx)"
   ]
  },
  {
   "cell_type": "code",
   "execution_count": 81,
   "metadata": {},
   "outputs": [
    {
     "name": "stdout",
     "output_type": "stream",
     "text": [
      "discarded: 1020,T,<27,34>,B=1196,BB=83,LBLS:[0:0 1:0 2:1 3:1 4:1 5:0 6:1 7:0 8:1 9:1 10:1 11:0 12:1 13:1 14:1 15:1 16:1 17:1 18:1 19:1 20:1 21:1 22:1 23:1 24:1 25:1 26:1 ]\n",
      "1196.0 83.0 1279.0\n",
      "\n",
      "adding to q: 72828,T,<27,34>,B=1196,BB=83,LBLS:[0:0 1:0 2:1 3:1 4:1 5:0 6:1 7:0 8:1 9:1 10:1 11:0 12:1 13:1 14:1 15:1 16:1 17:1 18:1 19:1 20:1 21:1 22:1 23:1 24:1 25:1 26:1 ]\n",
      "1196.0 83.0 1279.0\n",
      "\n",
      "dequeued: 72828,T,<27,34>,B=1196,BB=83,LBLS:[0:0 1:0 2:1 3:1 4:1 5:0 6:1 7:0 8:1 9:1 10:1 11:0 12:1 13:1 14:1 15:1 16:1 17:1 18:1 19:1 20:1 21:1 22:1 23:1 24:1 25:1 26:1 ]\n",
      "1196.0 83.0 1279.0\n",
      "\n"
     ]
    }
   ],
   "source": [
    "with open('./build/out', 'r') as in_f:\n",
    "    lines = in_f.readlines()\n",
    "\n",
    "for line in lines:\n",
    "    if 'B=' in line and 'BB=':\n",
    "        i1 = line.index('B='); l1 = len('B=')\n",
    "        i2 = line.index('BB='); l2 = len('BB=')\n",
    "        i3 = line.index('LBLS')\n",
    "        x1 = float(line[i1+l1:i2-1])\n",
    "        x2 = float(line[i2+l2:i3-1])\n",
    "        if(x1 > 1190): \n",
    "            print(line[:-1])\n",
    "            print(x1, x2, x1+x2)\n",
    "            print()\n"
   ]
  }
 ],
 "metadata": {
  "kernelspec": {
   "display_name": "Python 3",
   "language": "python",
   "name": "python3"
  },
  "language_info": {
   "codemirror_mode": {
    "name": "ipython",
    "version": 3
   },
   "file_extension": ".py",
   "mimetype": "text/x-python",
   "name": "python",
   "nbconvert_exporter": "python",
   "pygments_lexer": "ipython3",
   "version": "3.12.9"
  }
 },
 "nbformat": 4,
 "nbformat_minor": 2
}
