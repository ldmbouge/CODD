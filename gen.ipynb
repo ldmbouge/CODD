{
 "cells": [
  {
   "cell_type": "markdown",
   "metadata": {},
   "source": [
    "# Knapsack:"
   ]
  },
  {
   "cell_type": "code",
   "execution_count": 15,
   "metadata": {},
   "outputs": [],
   "source": [
    "import random\n",
    "\n",
    "I = 28\n",
    "fname = './data/knapsack/easy3'\n",
    "\n",
    "w = [random.randint(1,100) for _ in range(I)]\n",
    "c = [random.randint(1,100) for _ in range(I)]\n",
    "\n",
    "with open(fname, 'w') as out_f:\n",
    "    out_f.write(f'{I} {int(sum(w)*0.75)}\\n{\"\\n\".join(f\"{a} {b}\" for a,b in zip(c,w))}')"
   ]
  },
  {
   "cell_type": "code",
   "execution_count": null,
   "metadata": {},
   "outputs": [
    {
     "name": "stdout",
     "output_type": "stream",
     "text": [
      "0:1 1:1 2:0 3:1 4:1 5:1 6:0 7:1 8:1 9:1 10:1 11:1 12:1 13:1 14:1 15:1 16:1 17:1 18:0\n"
     ]
    }
   ],
   "source": [
    "#                 1 1 0 1 1 1 0 1 1 1 1 1 1 1 1 1 1 1 0\n",
    "longest_prefix = '1 1 0 1 1 1 0 1 1 1 1 1 1 1 1 1 1 1 0'.split(' ')\n",
    "print( ' '.join( f'{i}:{x}' for i,x in enumerate(longest_prefix) ) )"
   ]
  },
  {
   "cell_type": "code",
   "execution_count": 45,
   "metadata": {},
   "outputs": [
    {
     "name": "stdout",
     "output_type": "stream",
     "text": [
      "[1, 1, 0, 1, 1, 1, 0, 1, 1, 1, 1, 1, 1, 1, 1, 1, 1, 1, 0, 1, 0, 1, 0, 1, 1, 1, 1, 1]\n",
      "[1, 1, 1, 1, 0, 1, 1, 1, 0, 0, 1, 1, 1, 1, 1, 1, 1, 1, 0]\n",
      "[1, 1, 1, 1, 0, 1, 1, 1, 0, 0, 1, 1, 1, 1, 1, 1, 1, 1, 0, 1, 0, 1, 0, 1, 1, 1, 1, 1]\n",
      "[1, 1, 0, 1, 1, 1, 0, 1, 1, 1, 1, 1, 1, 1, 1, 1, 1, 1, 0]\n",
      "1323\n",
      "819\n",
      "1198\n",
      "944\n"
     ]
    }
   ],
   "source": [
    "#discarded: 24,T,<19,439>,B=819,BB=0,LBLS:[0:1 1:1 2:1 3:1 4:0 5:1 6:1 7:1 8:0 9:0 10:1 11:1 12:1 13:1 14:1 15:1 16:1 17:1 18:0 ]\n",
    "#discarded: 10,T,<19,439>,B=684,BB=0,LBLS:[0:1 1:1 2:0 3:1 4:1 5:1 6:1 7:1 8:1 9:1 10:1 11:1 12:1 13:0 14:0 15:0 16:0 17:1 18:0 ]\n",
    "#                        [1 1 0 1 1 1 0 1 1 1 1 1 1 1 1 1 1 1\n",
    "best  = [int(x) for x in '1 1 0 1 1 1 0 1 1 1 1 1 1 1 1 1 1 1 0 1 0 1 0 1 1 1 1 1'.split(' ')]\n",
    "first = [int(x.split(':')[-1]) for x in '0:1 1:1 2:1 3:1 4:0 5:1 6:1 7:1 8:0 9:0 10:1 11:1 12:1 13:1 14:1 15:1 16:1 17:1 18:0'.split(' ')]\n",
    "last  = [int(x.split(':')[-1]) for x in '0:1 1:1 2:0 3:1 4:1 5:1 6:0 7:1 8:1 9:1 10:1 11:1 12:1 13:1 14:1 15:1 16:1 17:1 18:0'.split(' ')]\n",
    "\n",
    "first_padded = first + [1, 0, 1, 0, 1, 1, 1, 1, 1]\n",
    "\n",
    "fname = './data/knapsack/breaksRF'\n",
    "with open(fname, 'r') as in_f:\n",
    "    lines = [[int(x) for x in line.strip().split(' ')] for line in in_f.readlines()]\n",
    "    N,I = lines[0]\n",
    "    c = [line[0] for line in lines[1:]]\n",
    "    w = [line[1] for line in lines[1:]]\n",
    "    \n",
    "def value(X, C):\n",
    "    return sum( x*c for x,c in zip(X,C) )\n",
    "\n",
    "print(best)\n",
    "print(first)\n",
    "print(first_padded)\n",
    "print(last)\n",
    "\n",
    "print(value(best, c))\n",
    "print(value(first, c))\n",
    "print(value(first_padded, c))\n",
    "print(value(last, c))"
   ]
  }
 ],
 "metadata": {
  "kernelspec": {
   "display_name": "Python 3",
   "language": "python",
   "name": "python3"
  },
  "language_info": {
   "codemirror_mode": {
    "name": "ipython",
    "version": 3
   },
   "file_extension": ".py",
   "mimetype": "text/x-python",
   "name": "python",
   "nbconvert_exporter": "python",
   "pygments_lexer": "ipython3",
   "version": "3.12.7"
  }
 },
 "nbformat": 4,
 "nbformat_minor": 2
}
